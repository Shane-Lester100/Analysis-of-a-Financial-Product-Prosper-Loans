{
 "cells": [
  {
   "cell_type": "markdown",
   "metadata": {},
   "source": [
    "# Proper Loans Exploratory Analysis\n",
    "\n",
    "## Introduction\n",
    "\n",
    "The company Prosper plays the middleman between investors and people who need money. They allows non expert investors to fund various sized loans at various rates. Prosper allows API access to their data so users can make investments. Udacity.com, a data analytics education platform, supplied the Prosper loan data via API. The dataset contain 113937 rows and 81 columns. "
   ]
  },
  {
   "cell_type": "code",
   "execution_count": 3,
   "metadata": {},
   "outputs": [],
   "source": [
    "import numpy as np\n",
    "import pandas as pd\n",
    "import matplotlib.pyplot as plt\n",
    "import seaborn as sb\n",
    "\n",
    "import random\n",
    "random.seed(42)"
   ]
  },
  {
   "cell_type": "code",
   "execution_count": null,
   "metadata": {},
   "outputs": [],
   "source": [
    "prosper_loans_df = pd.read_csv(\"prosper_loan_data.csv\")\n",
    "pd.set_option('max_columns', None)\n",
    "colors = sb.color_palette(\"Greens_r\")\n",
    "prosper_loans_df.sample(4)"
   ]
  },
  {
   "cell_type": "markdown",
   "metadata": {},
   "source": [
    "## Exploratory Analysis"
   ]
  },
  {
   "cell_type": "markdown",
   "metadata": {},
   "source": [
    "### What does a Prosper loan look?\n",
    "\n",
    "We will begin by examining the features of a prosper loan. A prosper loan has an amount, a request type, a monthly term amount, an interest rate, a current status, and a risk score. A loan also comes from a location and has a particular amount of investors financing the loan."
   ]
  },
  {
   "cell_type": "markdown",
   "metadata": {},
   "source": [
    "### Number of Investors"
   ]
  },
  {
   "cell_type": "code",
   "execution_count": null,
   "metadata": {},
   "outputs": [],
   "source": [
    "prosper_loans_df.Investors.describe()"
   ]
  },
  {
   "cell_type": "code",
   "execution_count": null,
   "metadata": {},
   "outputs": [],
   "source": [
    "plt.figure(figsize=(14,12)).subplots_adjust( hspace=0.5)\n",
    "\n",
    "plt.subplot(3,1,1)\n",
    "\n",
    "bins = np.arange(0, 1200+1, 50)\n",
    "xticks = bins\n",
    "xlabels = [str(b) for b in bins]\n",
    "\n",
    "plt.hist(data=prosper_loans_df, x=\"Investors\", color=colors[2], bins=bins);\n",
    "plt.xticks(ticks=xticks, labels=xlabels, rotation=90)\n",
    "\n",
    "plt.title(\"Frequency of Investors Per Loan\")\n",
    "plt.xlabel(\"Number Of Investors\")\n",
    "plt.ylabel(\"Frequency\");\n",
    "\n",
    "plt.subplot(3,1,2)\n",
    "\n",
    "bins = np.arange(0, 50, 1)\n",
    "xticks = bins\n",
    "xlabels = [str(b) for b in bins]\n",
    "\n",
    "plt.hist(data=prosper_loans_df, x=\"Investors\", color=colors[2], bins=bins);\n",
    "plt.xticks(ticks=xticks, labels=xlabels, rotation=90)\n",
    "\n",
    "plt.title(\"Frequency of Investors Per Loan\")\n",
    "plt.xlabel(\"Number Of Investors\")\n",
    "plt.ylabel(\"Frequency\");\n",
    "plt.xlim(0, 50)\n",
    "\n",
    "plt.subplot(3,1,3)\n",
    "bins = np.arange(2, 50, 1)\n",
    "xticks = bins\n",
    "xlabels = [str(b) for b in bins]\n",
    "\n",
    "plt.hist(data=prosper_loans_df, x=\"Investors\", color=colors[2], bins=bins);\n",
    "plt.xticks(ticks=xticks, labels=xlabels, rotation=90)\n",
    "\n",
    "plt.title(\"Frequency of Investors Per Loan\")\n",
    "plt.xlabel(\"Number Of Investors\")\n",
    "plt.ylabel(\"Frequency\");\n",
    "plt.xlim(0, 50)"
   ]
  },
  {
   "cell_type": "markdown",
   "metadata": {},
   "source": [
    "The histograms have a difficult time telling the distribution. But the majority by far falls into the bucket of 1 investor."
   ]
  },
  {
   "cell_type": "markdown",
   "metadata": {},
   "source": [
    "### Amount\n",
    "\n",
    "A loan has an amount requested. The box plot below and the descriptive statistics show the amount for a typical loan."
   ]
  },
  {
   "cell_type": "code",
   "execution_count": null,
   "metadata": {},
   "outputs": [],
   "source": [
    "prosper_loans_df.LoanOriginalAmount.describe()"
   ]
  },
  {
   "cell_type": "markdown",
   "metadata": {},
   "source": [
    "To view outliers we can use a boxplot."
   ]
  },
  {
   "cell_type": "code",
   "execution_count": null,
   "metadata": {},
   "outputs": [],
   "source": [
    "plt.figure(figsize=(8,8))\n",
    "boxplot = sb.boxplot(data=prosper_loans_df, y=\"LoanOriginalAmount\", color=colors[2])\n",
    "plt.xlabel(\"Requested Loan Amount\")\n",
    "plt.ylabel(\"Amount ($)\");\n",
    "plt.title(\"Requested Loan Amount\");"
   ]
  },
  {
   "cell_type": "markdown",
   "metadata": {},
   "source": [
    "We can see from the descriptive statistics and the boxplot that a lot of outliers exist creating a right skew of the data. \n",
    "\n",
    "A histogram below shows the frequencies of each loan amount."
   ]
  },
  {
   "cell_type": "code",
   "execution_count": null,
   "metadata": {},
   "outputs": [],
   "source": [
    "\n",
    "\n",
    "# plt.subplot(2,2,1)\n",
    "plt.figure(figsize=(10,8))\n",
    "bins = np.arange(0, 35000 + 1, 2500)\n",
    "xlabels = [\"{:.2f}\".format(b) for b in bins]\n",
    "\n",
    "plt.hist(data=prosper_loans_df, x=\"LoanOriginalAmount\", color=colors[2], bins=bins);\n",
    "plt.xticks(ticks=bins, labels=xlabels, rotation=90)\n",
    "\n",
    "# yticks = np.arange(0, 25000 + 1, 5000)\n",
    "# ylabels = [\"{:.2f}\".format(tick/n_rows) for tick in yticks]\n",
    "# plt.yticks(ticks=yticks, labels=ylabels)\n",
    "plt.title(\"Frequency of Loan Amounts\")\n",
    "plt.xlabel(\"Loan Amount Requested ($)\")\n",
    "plt.ylabel(\"Frequency\");"
   ]
  },
  {
   "cell_type": "markdown",
   "metadata": {},
   "source": [
    "This chart shows that roughly 30,000 loans were given out between 2500 and 5000 dollars. That by far is the most frequently occurring amount for loans given out.\n",
    "\n",
    "The typical loan is between 1000 and 7500. There are also plenty of higher amount loans from 7500 to 17500. The right tail above that is quite rare.\n",
    "\n",
    "The descriptive statistics don't prove to be as useful because of the heavy right skew in the data. "
   ]
  },
  {
   "cell_type": "markdown",
   "metadata": {},
   "source": [
    "### Request Type\n",
    "\n",
    "Loans can be classified in a few different ways:"
   ]
  },
  {
   "cell_type": "code",
   "execution_count": null,
   "metadata": {},
   "outputs": [],
   "source": [
    "prosper_loans_df[\"ListingCategory (numeric)\"]\n",
    "listing_categories = [\"Not Available\", \"Debt Consolidation\", \"Home Improvement\", \"Business\",\n",
    "  \"Personal Loan\", \"Student Use\", \"Auto\", \"Other\", \"Baby&Adoption\", \"Boat\",\n",
    "  \"Cosmetic Procedure\", \"Engagement Ring\", \"Green Loans\", \"Household Expenses\",\n",
    "  \"Large Purchases\", \"Medical/Dental\", \"Motorcycle\",\n",
    "  \"RV\", \"Taxes\", \"Vacation\", \"Wedding Loans\"]\n",
    "categories_df = prosper_loans_df[\"ListingCategory (numeric)\"].apply(lambda i: listing_categories[i]).copy()\n"
   ]
  },
  {
   "cell_type": "code",
   "execution_count": null,
   "metadata": {},
   "outputs": [],
   "source": [
    "plt.figure(figsize=(16,10))\n",
    "sb.countplot(categories_df, color = colors[2], orient='h', order=categories_df.value_counts().index)\n",
    "plt.xticks(rotation=90, fontsize=16)\n",
    "plt.yticks(fontsize=16)\n",
    "plt.xlabel(\"Reasons\", fontsize=18)\n",
    "plt.ylabel(\"Frequency\", fontsize=18)\n",
    "plt.title(\"Reasons for Requested Loans\", fontsize=20);"
   ]
  },
  {
   "cell_type": "code",
   "execution_count": null,
   "metadata": {},
   "outputs": [],
   "source": [
    "categories_df = pd.DataFrame(categories_df).rename(columns={\"ListingCategory (numeric)\": \"Reason\"})\n",
    "reason_df = categories_df.query(\"Reason != 'Not Available' and Reason != 'Other'\")\n",
    "reason_df = reason_df.Reason.value_counts() / reason_df.Reason.shape[0]\n",
    "reason_df = reason_df.iloc[0:3]\n",
    "reason_df[\"Other\"] = 1 - reason_df.sum()\n",
    "plt.figure(figsize=(8, 8), facecolor=\"#EEEEEE\")\n",
    "plt.pie(reason_df, labels=reason_df.index, startangle=90,\n",
    "        counterclock=False, wedgeprops = {'width': 0.4},\n",
    "        colors=colors,\n",
    "        textprops={'fontsize': 14}\n",
    "        );\n",
    "plt.axis(\"square\");\n",
    "plt.title(\"Reasons For Loans\", fontsize=16)\n",
    "plt.text(x=-0.56, y = 0, s=\"Debt Consolidation: 68%\", fontdict={\"fontsize\":16,\n",
    "                                                               \"weight\": \"bold\"});"
   ]
  },
  {
   "cell_type": "markdown",
   "metadata": {},
   "source": [
    "The majority of the types of loans requested seem to be debt consolidation, followed by home improvements and buisness decisions."
   ]
  },
  {
   "cell_type": "markdown",
   "metadata": {},
   "source": [
    "### Terms\n",
    "\n",
    "Loan terms are the amount of months to pay back the loan. Loans are offered for 1 year, 3 year, and 5 year periods."
   ]
  },
  {
   "cell_type": "code",
   "execution_count": null,
   "metadata": {},
   "outputs": [],
   "source": [
    "from pywaffle import Waffle\n",
    "from collections import OrderedDict\n",
    "\n",
    "data = round(100 * prosper_loans_df.Term.value_counts() /  prosper_loans_df.Term.shape[0], 0)\n",
    "sorted_data = OrderedDict(sorted(data.items(), key=lambda x: x[0]))\n",
    "fig = plt.figure(\n",
    "    FigureClass=Waffle,\n",
    "    rows=10,\n",
    "    columns=20,\n",
    "    values=sorted_data,\n",
    "    title={'label': 'Porportion of Loans By Term Length', 'loc': 'center', 'fontdict': {\"fontsize\": 18}},\n",
    "    colors=[colors[4], colors[2], colors[0]],\n",
    "    labels=[\"{} Month Term: {:.2f}% \".format(k, v/100) for k, v in sorted_data.items()],\n",
    "    legend={'loc': 'lower left',\n",
    "            'ncol': len(data),\n",
    "            'bbox_to_anchor': (0, -0.15),\n",
    "            'framealpha': 0,\n",
    "            'fontsize':  12},\n",
    "    figsize=(10,10)\n",
    ")\n",
    "fig.set_facecolor('#EEEEEE')\n",
    "plt.show()"
   ]
  },
  {
   "cell_type": "markdown",
   "metadata": {},
   "source": [
    "The waffle chart below shows us the porportions of loan amount. It is also encoded by term length: the lighter the color the lower the term amount."
   ]
  },
  {
   "cell_type": "markdown",
   "metadata": {},
   "source": [
    "### Current Status\n",
    "\n",
    "We can break loans down by status. Current status can be seen as the outcome of the loan. This paits a picture of the total history of loans from prosper."
   ]
  },
  {
   "cell_type": "code",
   "execution_count": null,
   "metadata": {},
   "outputs": [],
   "source": [
    "count_loan_df =  pd.DataFrame(prosper_loans_df.LoanStatus.value_counts())\n",
    "count_loan_df.index.name = \"Status\"\n",
    "count_loan_df = count_loan_df.rename(columns={\"LoanStatus\": \"Count\"})\n",
    "count_loan_df = count_loan_df.reset_index()"
   ]
  },
  {
   "cell_type": "code",
   "execution_count": null,
   "metadata": {},
   "outputs": [],
   "source": [
    "base_color = sb.color_palette()[0]\n",
    "sb.countplot(data=prosper_loans_df, y=\"LoanStatus\", color=colors[2],\n",
    "            order = prosper_loans_df.LoanStatus.value_counts().index);\n",
    "plt.title(\"Loan History\")\n",
    "xticks = np.arange(0, 70000 + 1, 10000)\n",
    "plt.xticks(ticks=xticks)\n",
    "# plt.xticks(rotation=90)\n",
    "# plt.\n",
    "type_counts = prosper_loans_df.LoanStatus.value_counts()\n",
    "n_rows = prosper_loans_df.LoanStatus.shape[0]\n",
    "for i in range(type_counts.shape[0]):\n",
    "    count = type_counts[i]\n",
    "    pct_str = '{:0.1f}%'.format(100*count / n_rows)\n",
    "    # first is x and yposition, third is what gets printed\n",
    "    # fourth centers the vertical alignment on the text on a bar\n",
    "    plt.text(count+1, i, pct_str, va=\"center\")"
   ]
  },
  {
   "cell_type": "markdown",
   "metadata": {},
   "source": [
    "This shows that most loans prosper has are current, meaning they right now have about as many loans open as they have ever had. Most loans are completed without defaulting.  The labels other then the top 4 seem like mistakes."
   ]
  },
  {
   "cell_type": "markdown",
   "metadata": {},
   "source": [
    "### Interest Rates\n",
    "\n",
    "To put it simply the interest rate ties the investor to the borrower. The borrower has to pay the interest rate on the loan and the investor recieves the interest rate as payment."
   ]
  },
  {
   "cell_type": "code",
   "execution_count": null,
   "metadata": {},
   "outputs": [],
   "source": [
    "prosper_loans_df[\"BorrowerRate\"].describe()"
   ]
  },
  {
   "cell_type": "markdown",
   "metadata": {},
   "source": [
    "To view outliers we can use a boxplot"
   ]
  },
  {
   "cell_type": "code",
   "execution_count": null,
   "metadata": {},
   "outputs": [],
   "source": [
    "plt.figure(figsize=(8,8))\n",
    "boxplot = sb.boxplot(data=prosper_loans_df, y=\"BorrowerRate\", color=colors[2])\n",
    "plt.xlabel(\"Interest Rate\")\n",
    "plt.ylabel(\"Rate (%)\");\n",
    "plt.title(\"Interest Rate on Prosper Loans\");"
   ]
  },
  {
   "cell_type": "markdown",
   "metadata": {},
   "source": [
    "We can see a few outliers above 0.4, but nothing to seriously skew our results."
   ]
  },
  {
   "cell_type": "code",
   "execution_count": null,
   "metadata": {},
   "outputs": [],
   "source": [
    "plt.figure(figsize=(15,12))\n",
    "bins = np.arange(0, 0.5, 0.04)\n",
    "n_rows = prosper_loans_df.BorrowerRate.shape[0]\n",
    "\n",
    "plt.subplot(2,2,1)\n",
    "\n",
    "plt.hist(data=prosper_loans_df, x=\"BorrowerRate\", bins=bins, color=colors[2]);\n",
    "\n",
    "xlabels = [\"{:.2f}\".format(b) for b in bins]\n",
    "plt.xticks(ticks=bins, labels=xlabels, rotation=90)\n",
    "\n",
    "yticks = np.arange(0, 25000 + 1, 5000)\n",
    "ylabels = [\"{:.2f}\".format(tick/n_rows) for tick in yticks]\n",
    "plt.yticks(ticks=yticks, labels=ylabels)\n",
    "plt.title(\"PMF: Interest Rates\")\n",
    "plt.xlabel(\"Interest Rates\")\n",
    "plt.ylabel(\"Probability of Occurance\")\n",
    "\n",
    "plt.subplot(2,2,2)\n",
    "plt.hist(data=prosper_loans_df, x=\"BorrowerRate\", cumulative=True,\n",
    "         bins=bins, color=colors[2]);\n",
    "plt.xticks(ticks=bins, labels=xlabels, rotation=90);\n",
    "\n",
    "yticks = np.arange(0, 125000, 20000)\n",
    "ylabels = [\"{:.2f}\".format(tick/n_rows) for tick in yticks]\n",
    "plt.yticks(ticks=yticks, labels=ylabels)\n",
    "plt.title(\"CDF: Interest Rates\")\n",
    "plt.xlabel(\"Interest Rates\")\n",
    "plt.ylabel(\"Cumulative Probability of Occurance\");"
   ]
  },
  {
   "cell_type": "markdown",
   "metadata": {},
   "source": [
    "We can also see that the distribution for interest rates given out is close to being normal by the roughly vertical rise in the CDF.\n",
    "\n",
    "The most frequently occurring bucket is betweeen 0.12 and 0.16, with a 20% probability that an interest rate falls into this bucket. This is below the 0.16 to 0.2 bucket which contans the median of 0.18 and the mean of 0.19. This indicates a slight right skew given by a few outliers. These outliers are better viewed in the boxplot.\n",
    "\n",
    "This shows the most frequently occuring cost on the loan is between 0.08 and 0.24 % which shows the typical cost to the borrower and the typical return on investment."
   ]
  },
  {
   "cell_type": "markdown",
   "metadata": {},
   "source": [
    "### Risk Scores\n",
    "\n",
    "Risk scores are a derived measure of estimated risk. 10 being the lowest risk and 1 being the highest risk. The feature is titled ProperScore.\n"
   ]
  },
  {
   "cell_type": "code",
   "execution_count": null,
   "metadata": {},
   "outputs": [],
   "source": [
    "prosper_loans_df[\"ProsperScore\"].describe()"
   ]
  },
  {
   "cell_type": "markdown",
   "metadata": {},
   "source": [
    "We can view outliers with boxplots"
   ]
  },
  {
   "cell_type": "code",
   "execution_count": null,
   "metadata": {},
   "outputs": [],
   "source": [
    "plt.figure(figsize=(8,8))\n",
    "boxplot = sb.boxplot(data=prosper_loans_df, y=\"ProsperScore\", color=colors[2])\n",
    "plt.xlabel(\"Risk\")\n",
    "plt.ylabel(\"Risk Score\");\n",
    "plt.title(\"Estimated Risk Score on Prosper Loans\");"
   ]
  },
  {
   "cell_type": "markdown",
   "metadata": {},
   "source": [
    "For some reason some risk scores given were above 10, which must be a mistake. Other then that the distribution looks to be relatively straigtforward.\n",
    "\n",
    "Below we can see the percentage associated with each prosper score."
   ]
  },
  {
   "cell_type": "code",
   "execution_count": null,
   "metadata": {},
   "outputs": [],
   "source": [
    "plt.figure(figsize=(8,8))\n",
    "base_color = sb.color_palette()[0]\n",
    "sb.countplot(data=prosper_loans_df, x=\"ProsperScore\", color=colors[2]);\n",
    "plt.title(\"Prosper Loan Estimated Risk Scores\");\n",
    "plt.xlabel(\"Risk Score\")\n",
    "plt.ylabel(\"Frequency\");\n",
    "\n",
    "n_rows =  prosper_loans_df.ProsperScore.shape[0]\n",
    "type_counts = prosper_loans_df.ProsperScore.value_counts()\n",
    "type_counts.index.name = \"score\"\n",
    "\n",
    "type_counts = type_counts.reset_index()\n",
    "type_counts.sort_values(by=\"score\", inplace=True)\n",
    "type_counts = type_counts.reset_index(drop=True)\n",
    "type_counts[\"pct\"] = round(type_counts.ProsperScore / prosper_loans_df.shape[0], 4)\n",
    "for i in range(type_counts.shape[0]):\n",
    "    pct_str = '{:.2f}%'.format(100 * type_counts.iloc[i].pct)\n",
    "#     # first is x and yposition, third is what gets printed\n",
    "#     # fourth centers the vertical alignment on the text on a bar\n",
    "    plt.text(x=i-0.35, y=type_counts.iloc[i].ProsperScore + 100, s =pct_str)"
   ]
  },
  {
   "cell_type": "markdown",
   "metadata": {},
   "source": [
    "The bulk of data seems to be between 4 and 8. 4 is the most frequently occurring value. But the risk scores seem to closely follow a normal distribution around the value 6, which is the median and mean. "
   ]
  },
  {
   "cell_type": "markdown",
   "metadata": {},
   "source": [
    "## Who Is Borrowing Money\n",
    "\n",
    "What is the typical profile of person borrowing money? These people come from a particular states, have a particular income, and have a particular credit score."
   ]
  },
  {
   "cell_type": "markdown",
   "metadata": {},
   "source": [
    "### income Level\n",
    "\n",
    "Loans are given to people who have a particular reported monthly income."
   ]
  },
  {
   "cell_type": "code",
   "execution_count": null,
   "metadata": {},
   "outputs": [],
   "source": [
    "prosper_loans_df.StatedMonthlyIncome.describe()"
   ]
  },
  {
   "cell_type": "code",
   "execution_count": null,
   "metadata": {},
   "outputs": [],
   "source": [
    "plt.figure(figsize=(16,10))\n",
    "bins = np.arange(0, 20000+1, 1000) \n",
    "xlabels = [str(b) for b in bins]\n",
    "prosper_loans_df.StatedMonthlyIncome.hist(color=colors[2], bins=bins)\n",
    "plt.xticks(ticks=bins, labels=xlabels, rotation=90)\n",
    "plt.xlim(0, 20000)\n",
    "plt.title(\"Monthly Incomes\")\n",
    "plt.xlabel(\"Montly Income ($)\")\n",
    "plt.ylabel(\"Frequency\");"
   ]
  },
  {
   "cell_type": "markdown",
   "metadata": {},
   "source": [
    "Income levels have a right skew with the majority being between 2000 and 6000. That is yearly incomes betweeen 24000 and 72000 dollars a year. That is to be expected. The right tip makes 20,000 dollars a month which comes out to 240,000 dollars a year.  The mean and median is about 4600-5600 dollars per month. The mean is greater than the median indicating a right skew."
   ]
  },
  {
   "cell_type": "markdown",
   "metadata": {},
   "source": [
    "### Credit Score\n",
    "\n",
    "What are the credit scores of the people who are given loans"
   ]
  },
  {
   "cell_type": "code",
   "execution_count": null,
   "metadata": {},
   "outputs": [],
   "source": [
    "plt.figure(figsize=(16,10))\n",
    "bins = np.arange(400, 1000, 25)\n",
    "labels = [str(b) for b in bins]\n",
    "avg_credit_score = round((prosper_loans_df.CreditScoreRangeLower + prosper_loans_df.CreditScoreRangeUpper)/ 2, 0)\n",
    "avg_credit_score.hist(color=colors[2], bins=bins)\n",
    "plt.xticks(ticks=bins, labels=labels, rotation=90)\n",
    "plt.title(\"Credit Scores\")\n",
    "plt.xlabel(\"Credit Score\")\n",
    "plt.ylabel(\"Frequency\")\n",
    "plt.xlim(400, 1000)"
   ]
  },
  {
   "cell_type": "markdown",
   "metadata": {},
   "source": [
    "650 t0 675 is the most common credit score with the range of 650 to 775 making up the majority of the distribution. "
   ]
  },
  {
   "cell_type": "code",
   "execution_count": null,
   "metadata": {},
   "outputs": [],
   "source": [
    "avg_credit_score.describe()"
   ]
  },
  {
   "cell_type": "markdown",
   "metadata": {},
   "source": [
    "### Loan Locations\n",
    "\n",
    "Loans are given to people of various states. \n",
    "\n",
    "California borrows the highest amount of loans by almost double of the second most frequent places: New York, Texas, and Florida. California recieves14,171 while the otheer three 6700-6900. This shows where most of these loans are being borrowed from. \n",
    "\n",
    "The distribution is also right skewed with most being in the range of 0-500. That is why there is a lot of white on the state map"
   ]
  },
  {
   "cell_type": "code",
   "execution_count": null,
   "metadata": {},
   "outputs": [],
   "source": [
    "import plotly.express as px\n",
    "\n",
    "states = prosper_loans_df[prosper_loans_df[\"BorrowerState\"].notna()][\"BorrowerState\"].unique()\n",
    "\n",
    "data = pd.DataFrame(prosper_loans_df.BorrowerState.value_counts())\n",
    "data.index.name = \"State\"\n",
    "data = data.rename(columns={\"BorrowerState\": \"Amount Of Loans\"}).reset_index()\n",
    "data\n",
    "fig = px.choropleth(data, locations='State',\n",
    "                    locationmode=\"USA-states\",\n",
    "                    color=\"Amount Of Loans\",\n",
    "                    color_continuous_scale=\"Greens\",\n",
    "                    scope=\"usa\")\n",
    "fig.update_layout(margin={\"r\":0,\"t\":0,\"l\":0,\"b\":0})\n",
    "fig.show()\n",
    "\n",
    "data.describe()\n",
    "\n",
    "bins = np.arange(0, 8000, 500)\n",
    "xlabels = [str(b) for b in bins]\n",
    "plt.figure(figsize=(16, 8))\n",
    "plt.hist(data[\"Amount Of Loans\"], color=colors[2], bins=bins);\n",
    "plt.xlim(0, 8000)\n",
    "plt.xticks(ticks=bins, labels=xlabels);\n",
    "plt.xlabel(\"Loans Given In A State\")\n",
    "plt.ylabel(\"Frequency of States\")\n",
    "plt.title(\"Prosper Loans Given Per State\");"
   ]
  },
  {
   "cell_type": "markdown",
   "metadata": {},
   "source": [
    "### Estimated Return Distribution"
   ]
  },
  {
   "cell_type": "code",
   "execution_count": null,
   "metadata": {},
   "outputs": [],
   "source": [
    "plt.figure(figsize=(16, 10))\n",
    "bins = np.arange(-0.1, 0.3, 0.01)\n",
    "labels = [\"{:.2f}\".format(b) for b in bins]\n",
    "prosper_loans_df.EstimatedReturn.hist(color=colors[2], bins=bins)\n",
    "plt.xticks(ticks=bins, labels=labels, rotation=90);"
   ]
  },
  {
   "cell_type": "markdown",
   "metadata": {},
   "source": [
    "The distribution of returns is about normal with the highest occuring return of 0.07 or 0.08"
   ]
  },
  {
   "cell_type": "markdown",
   "metadata": {},
   "source": [
    "## Bivariate/ Multivariate Plots"
   ]
  },
  {
   "cell_type": "markdown",
   "metadata": {},
   "source": [
    "### Question 1: What is the relationship of risk score and state?\n",
    "Seems like there isn't much of a relationship. They seem to follow the average-median"
   ]
  },
  {
   "cell_type": "code",
   "execution_count": null,
   "metadata": {},
   "outputs": [],
   "source": [
    "states = prosper_loans_df[prosper_loans_df[\"BorrowerState\"].notna()][\"BorrowerState\"].unique()\n",
    "\n",
    "cols_to_examine = [\"ProsperScore\", \"BorrowerState\"]\n",
    "data = prosper_loans_df[cols_to_examine].groupby(\"BorrowerState\").mean()\n",
    "data.describe()\n",
    "# data.index.name = \"State\"\n",
    "# data = data.rename(columns={\"BorrowerState\": \"Amount Of Loans\"}).reset_index()\n",
    "# data\n",
    "# fig = px.choropleth(data, locations='State',\n",
    "#                     locationmode=\"USA-states\",\n",
    "#                     color=\"Amount Of Loans\",\n",
    "#                     color_continuous_scale=\"Greens\",\n",
    "#                     scope=\"usa\")\n",
    "# fig.update_layout(margin={\"r\":0,\"t\":0,\"l\":0,\"b\":0})\n",
    "# fig.show()"
   ]
  },
  {
   "cell_type": "markdown",
   "metadata": {},
   "source": [
    "### Question 2: What is the interest rate by state?"
   ]
  },
  {
   "cell_type": "code",
   "execution_count": null,
   "metadata": {},
   "outputs": [],
   "source": [
    "states = prosper_loans_df[prosper_loans_df[\"BorrowerState\"].notna()][\"BorrowerState\"].unique()\n",
    "\n",
    "cols_to_examine = [\"BorrowerRate\", \"BorrowerState\"]\n",
    "data = prosper_loans_df[cols_to_examine].groupby(\"BorrowerState\").mean()\n",
    "data.describe()"
   ]
  },
  {
   "cell_type": "markdown",
   "metadata": {},
   "source": [
    "Conclusion: Relationship by states aren't very interesting. They have a very narrow distribution which means little useful predictive power."
   ]
  },
  {
   "cell_type": "markdown",
   "metadata": {},
   "source": [
    "### Question 3: Is there a relationship with time and Interest rate, ARP, and Estimated Return?"
   ]
  },
  {
   "cell_type": "code",
   "execution_count": null,
   "metadata": {},
   "outputs": [],
   "source": [
    "month_year_df = prosper_loans_df.copy()\n",
    "from datetime import datetime\n",
    "format_str = '%Y-%m-%d %H:%M:%S'\n",
    "\n",
    "month_year_df[\"month\"] = month_year_df.ListingCreationDate.apply(lambda x: datetime.strptime(x.split('.')[0], format_str).month).astype(int)\n",
    "month_year_df[\"year\"] = month_year_df.ListingCreationDate.apply(lambda x: datetime.strptime(x.split('.')[0], format_str).year).astype(int)"
   ]
  },
  {
   "cell_type": "code",
   "execution_count": null,
   "metadata": {},
   "outputs": [],
   "source": [
    "cols_of_interest = [\"BorrowerRate\", \"BorrowerAPR\", \"EstimatedReturn\", \"month\", \"year\"]\n",
    "costs_by_month_year = month_year_df[cols_of_interest].groupby([\"year\", \"month\"]).mean().dropna()"
   ]
  },
  {
   "cell_type": "code",
   "execution_count": null,
   "metadata": {},
   "outputs": [],
   "source": [
    "costs_by_month_year.plot(kind=\"line\", figsize=(16,10), color=[colors[0], colors[4], colors[4]])\n",
    "plt.ylabel(\"Rates (% of loan)\")\n",
    "plt.title(\"Returns By Rates\");"
   ]
  },
  {
   "cell_type": "markdown",
   "metadata": {},
   "source": [
    "This is a much better direction to go in, because if we can benchmark over time the returns of this kind of investment, that is much more useful."
   ]
  },
  {
   "cell_type": "markdown",
   "metadata": {},
   "source": [
    "### Question 3: What are the risk scores associated with the probability of default and associated estimated return."
   ]
  },
  {
   "cell_type": "markdown",
   "metadata": {},
   "source": [
    "First lets find the risk score associated with an estimated return from a correlation plot.\n",
    "\n",
    "So we can have a correlation with the estimated return and the risk score and then color them with the ones that defaulted."
   ]
  },
  {
   "cell_type": "code",
   "execution_count": null,
   "metadata": {},
   "outputs": [],
   "source": [
    "def build_query(arr):\n",
    "    outcome_arr = []\n",
    "    for elem in arr:\n",
    "        outcome_arr.append(\"LoanStatus == '{}'\".format(elem))\n",
    "    return ' or '.join(outcome_arr)\n",
    "\n",
    "assert build_query(['Completed', 'Current']) == \"LoanStatus == 'Completed' or LoanStatus == 'Current'\"\n",
    "\n",
    "basic_outcomes = prosper_loans_df[[\"ProsperScore\", \"EstimatedReturn\", \"LoanStatus\", \"Term\"]].copy()\n",
    " \n",
    "query_str = build_query([\"Completed\", \"Defaulted\", \"Chargedoff\", \"FinalPaymentInProgress\"])\n",
    "basic_outcomes = basic_outcomes.query(query_str).dropna().reset_index(drop=True)\n",
    "basic_outcomes.LoanStatus = basic_outcomes.LoanStatus.replace({\"Completed\": 1,\n",
    "                                                               \"FinalPaymentInProgress\": 1,\n",
    "                                                               \"Defaulted\": 0, \"Chargedoff\": 0})\n",
    "data_sample = basic_outcomes.sample(500)"
   ]
  },
  {
   "cell_type": "code",
   "execution_count": null,
   "metadata": {},
   "outputs": [],
   "source": [
    "data_sample.LoanStatus.mean()"
   ]
  },
  {
   "cell_type": "code",
   "execution_count": null,
   "metadata": {},
   "outputs": [],
   "source": [
    "check_term_default_rate = data_sample[[\"Term\", \"LoanStatus\", \"EstimatedReturn\"]].groupby([\"Term\"]).mean()\n",
    "check_term_default_rate"
   ]
  },
  {
   "cell_type": "code",
   "execution_count": null,
   "metadata": {},
   "outputs": [],
   "source": [
    "check_risk_default_rate = data_sample[[\"ProsperScore\", \"LoanStatus\", \"EstimatedReturn\"]].groupby(\"ProsperScore\").mean()\n",
    "check_risk_default_rate"
   ]
  },
  {
   "cell_type": "code",
   "execution_count": null,
   "metadata": {},
   "outputs": [],
   "source": [
    "check_term_by_risk = data_sample[[\"Term\", \"ProsperScore\", \"LoanStatus\"]].groupby([\"Term\"]).mean()\n",
    "check_term_by_risk"
   ]
  },
  {
   "cell_type": "markdown",
   "metadata": {},
   "source": [
    "Even though Term is not a big determinant in tthe risk score, they are a huge factor in default rate. "
   ]
  },
  {
   "cell_type": "code",
   "execution_count": null,
   "metadata": {},
   "outputs": [],
   "source": [
    "success_color, failure_color = sb.color_palette(\"colorblind\")[2], sb.color_palette(\"colorblind\")[3]\n",
    "\n",
    "plt.figure(figsize=(16, 12))\n",
    "sb.regplot(data=data_sample.query(\"LoanStatus == 1\"),\n",
    "            x=\"ProsperScore\", y=\"EstimatedReturn\",\n",
    "           x_jitter=0.4,\n",
    "          scatter_kws={'alpha': 0.45},\n",
    "           marker='o',\n",
    "          ci=None,\n",
    "          color=success_color)\n",
    "sb.regplot(data=data_sample.query(\"LoanStatus == 0\"),\n",
    "            x=\"ProsperScore\", y=\"EstimatedReturn\",\n",
    "           x_jitter=0.4,\n",
    "          scatter_kws={'alpha': 0.45},\n",
    "          ci=None,\n",
    "           color=failure_color,\n",
    "           marker='x')\n",
    "plt.title(\"Prosper Score By Estimated Return\")\n",
    "corr = data_sample[[\"EstimatedReturn\", \"ProsperScore\"]].corr().iloc[0].ProsperScore\n",
    "corr_label = 'Correlation: {:.4f}'.format(corr)\n",
    "plt.text(y=-0.12, x=7.5, s=corr_label, fontsize=14);"
   ]
  },
  {
   "cell_type": "code",
   "execution_count": null,
   "metadata": {},
   "outputs": [],
   "source": [
    "import statsmodels.api as sm\n",
    "\n",
    "data_sample['intercept'] = 1\n",
    "# First is y then a list of x variables\n",
    "lm = sm.OLS(data_sample['EstimatedReturn'], data_sample[['intercept', 'ProsperScore']])\n",
    "results = lm.fit()\n",
    "results.summary()\n"
   ]
  },
  {
   "cell_type": "code",
   "execution_count": null,
   "metadata": {},
   "outputs": [],
   "source": [
    "lm = sm.OLS(data_sample['EstimatedReturn'], data_sample[['intercept', 'Term']])\n",
    "results = lm.fit()\n",
    "results.summary()"
   ]
  },
  {
   "cell_type": "markdown",
   "metadata": {},
   "source": [
    "Results: With statistical significance, a 1 point increase in prosper score is associated with a -0.0034 Estimated Return. Limitation is that it only explains about 4% of the reason why this occurs, but it still is statistically significant and practically important. \n",
    "\n",
    "This shows us that even though there is a clear relationship between the two, defaults occur at every level and they are only associated with a slightly higher return. "
   ]
  },
  {
   "cell_type": "code",
   "execution_count": null,
   "metadata": {},
   "outputs": [],
   "source": [
    "data_sample.sample(2)"
   ]
  },
  {
   "cell_type": "code",
   "execution_count": null,
   "metadata": {},
   "outputs": [],
   "source": [
    "success_color, failure_color = sb.color_palette(\"colorblind\")[2], sb.color_palette(\"colorblind\")[3]\n",
    "\n",
    "plt.figure(figsize=(16, 12))\n",
    "sb.regplot(data=data_sample.query(\"Term == 12\"),\n",
    "            x=\"ProsperScore\", y=\"EstimatedReturn\",\n",
    "           x_jitter=0.4,\n",
    "          scatter_kws={'alpha': 0.45},\n",
    "          ci=None,\n",
    "          color=\"green\")\n",
    "sb.regplot(data=data_sample.query(\"Term == 36\"),\n",
    "            x=\"ProsperScore\", y=\"EstimatedReturn\",\n",
    "           x_jitter=0.4,\n",
    "          scatter_kws={'alpha': 0.45},\n",
    "          ci=None,\n",
    "          color=\"blue\")\n",
    "sb.regplot(data=data_sample.query(\"Term == 60\"),\n",
    "            x=\"ProsperScore\", y=\"EstimatedReturn\",\n",
    "           x_jitter=0.4,\n",
    "          scatter_kws={'alpha': 0.45},\n",
    "          ci=None,\n",
    "          color=\"red\")\n",
    "\n",
    "plt.title(\"Prosper Score By Estimated Return\")\n",
    "corr = data_sample[[\"EstimatedReturn\", \"ProsperScore\"]].corr().iloc[0].ProsperScore\n",
    "corr_label = 'Correlation: {:.4f}'.format(corr)\n",
    "plt.text(y=-0.12, x=7.5, s=corr_label, fontsize=14);"
   ]
  },
  {
   "cell_type": "code",
   "execution_count": null,
   "metadata": {},
   "outputs": [],
   "source": [
    "\n",
    "data_sample_2 = basic_outcomes[[\"ProsperScore\", \"LoanStatus\", \"EstimatedReturn\"]].copy()\n",
    "data_sample_2.LoanStatus = 1 - data_sample_2.LoanStatus\n",
    "data_sample_2 = data_sample_2.groupby(\"ProsperScore\").mean()\n",
    "data_sample_2.plot(kind=\"line\", figsize=(16,10))\n",
    "plt.title(\"Probability of Default V. Estimated Return\");\n",
    "plt.xlabel(\"Prosper Score\")\n",
    "plt.ylabel(\"Percentage (%)\")"
   ]
  },
  {
   "cell_type": "markdown",
   "metadata": {},
   "source": [
    "### Default Risk By Terms"
   ]
  },
  {
   "cell_type": "code",
   "execution_count": null,
   "metadata": {},
   "outputs": [],
   "source": [
    "data_sample_2 = data_sample[[\"Term\", \"LoanStatus\", \"EstimatedReturn\"]].copy()\n",
    "data_sample_2.LoanStatus = 1 - data_sample_2.LoanStatus\n",
    "data_sample_2 = data_sample_2.groupby(\"Term\").mean()\n",
    "data_sample_2.plot(kind=\"line\", figsize=(16,10))\n",
    "plt.title(\"Probability of Default V. Estimated Return\");\n",
    "plt.xlabel(\"Term\")\n",
    "plt.ylabel(\"Percentage (%)\")"
   ]
  },
  {
   "cell_type": "markdown",
   "metadata": {},
   "source": [
    "This above chart shows it is riskier to take out longer debt but it leads to a higher return"
   ]
  },
  {
   "cell_type": "markdown",
   "metadata": {},
   "source": [
    "### Across different risk scores, what percentage of the loans have defaulted?"
   ]
  },
  {
   "cell_type": "code",
   "execution_count": null,
   "metadata": {},
   "outputs": [],
   "source": [
    "data_sample_2"
   ]
  },
  {
   "cell_type": "code",
   "execution_count": null,
   "metadata": {
    "scrolled": false
   },
   "outputs": [],
   "source": [
    "data_sample_2 = data_sample_2[[\"ProsperScore\", \"LoanStatus\", \"EstimatedReturn\"]]\n",
    "data_sample_2 = data_sample_2.groupby(\"ProsperScore\").mean()\n",
    "data_sample_2.plot(kind=\"line\", figsize=(16,10))\n",
    "plt.title(\"Probability of Not Default V. Estimated Return\");\n",
    "plt.xlabel(\"Risk Score\")\n",
    "plt.ylabel(\"Percentage (%)\")"
   ]
  },
  {
   "cell_type": "markdown",
   "metadata": {},
   "source": [
    "This above chart shows that the estimted returns on the loan and the probability of the default don't have the clearest relationship. Therefore, by investing in high prosper risk numbers you can get a significantly higher probability of payment back with not much of a difference of estimated return."
   ]
  },
  {
   "cell_type": "markdown",
   "metadata": {},
   "source": [
    "## Data Story: Direction\n",
    "\n",
    "\n",
    "Below is roughly the data story that would be told given the above exploratory analysis\n",
    "\n",
    "- Key takeaways\n",
    "    - Prosper loans are an investment option not that many people are aware of\n",
    "    - I can describe the investment option\n",
    "        - Key factors are:\n",
    "            - Describe what the loans are:\n",
    "                - Show the states they are coming from, the percentage of what they are funding, the typical amounts of the loans, the number of investors for each loan\n",
    "                    - Where:\n",
    "                        - States: Show states map\n",
    "                    - What:\n",
    "                        - What they are funding: Donut graph by the top 3 types and then all others\n",
    "                    - Who:\n",
    "                        - Income distribution: histogram (PMF by CDF)\n",
    "                        - investors: bucketed in a few categories, waffle chart\n",
    "                    - How long:\n",
    "                        - terms of loan in waffle chart\n",
    "                    - Risk Level:\n",
    "                        - Show distribution of risk\n",
    "                        - Show a probability of default \n",
    "            - APR, Interest Rate, and Estimated Return\n",
    "                - Show distributions of estimated return, APR and interest rates (all have a similar distribution)\n",
    "                    - Show a faceted histogram to show all three \n",
    "\n",
    "                - Investment strategy:\n",
    "                    - Over time:\n",
    "                        - Show that APR and estimated return fluctuate with the interest rate, which is predictable (determined at time of investment): show time series graph of APR, interest, and return\n",
    "                    - Focus on Term and Risk Level as key determinants in what to expect as an investor"
   ]
  }
 ],
 "metadata": {
  "kernelspec": {
   "display_name": "Python 3",
   "language": "python",
   "name": "python3"
  },
  "language_info": {
   "codemirror_mode": {
    "name": "ipython",
    "version": 3
   },
   "file_extension": ".py",
   "mimetype": "text/x-python",
   "name": "python",
   "nbconvert_exporter": "python",
   "pygments_lexer": "ipython3",
   "version": "3.6.10"
  }
 },
 "nbformat": 4,
 "nbformat_minor": 4
}
